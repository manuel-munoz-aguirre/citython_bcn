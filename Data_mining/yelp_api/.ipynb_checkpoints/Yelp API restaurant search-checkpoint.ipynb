{
 "cells": [
  {
   "cell_type": "code",
   "execution_count": 29,
   "metadata": {},
   "outputs": [],
   "source": [
    "import pandas as pd\n",
    "from yelpapi import YelpAPI"
   ]
  },
  {
   "cell_type": "code",
   "execution_count": 30,
   "metadata": {},
   "outputs": [],
   "source": [
    "api_key = \"7h4lmEZR4riakxVczacgsYePCJeI_Lft6WiPctwgOeFBqv1q72-WJHd9MrfxNeDCNYdiYj-nev8i-_NEAWEwKVKtPOgNVinxOCRYQAmpaM1E6Fq8oQfHoTm0WoLnW3Yx\" #  Replace this with your real API key\n",
    "yelp_api = YelpAPI(api_key)\n",
    "search_results = yelp_api.search_query(latitude=\"41.386903\", \n",
    "                                       longitude=\"2.169404\", \n",
    "                                       radius=\"5000\",\n",
    "                                       categories=\"restaurants\",\n",
    "                                       limit=50)"
   ]
  },
  {
   "cell_type": "code",
   "execution_count": 31,
   "metadata": {},
   "outputs": [
    {
     "data": {
      "text/plain": [
       "['total', 'businesses', 'region']"
      ]
     },
     "execution_count": 31,
     "metadata": {},
     "output_type": "execute_result"
    }
   ],
   "source": [
    "[x for x in search_results]"
   ]
  },
  {
   "cell_type": "code",
   "execution_count": 34,
   "metadata": {},
   "outputs": [],
   "source": [
    "lat = []\n",
    "long = []\n",
    "price = []\n",
    "rating = []\n",
    "offset = 0\n",
    "for j in range(0, 110):\n",
    "    \n",
    "    \n",
    "    for i in range(0, len(search_results[\"businesses\"])):\n",
    "        lat.append(search_results[\"businesses\"][i][\"coordinates\"][\"latitude\"])\n",
    "        long.append(search_results[\"businesses\"][i][\"coordinates\"][\"longitude\"])\n",
    "        price.append(search_results[\"businesses\"][i][\"price\"])\n",
    "        rating.append(search_results[\"businesses\"][i][\"rating\"])\n",
    "        \n",
    "    offset += 50"
   ]
  },
  {
   "cell_type": "code",
   "execution_count": 39,
   "metadata": {},
   "outputs": [
    {
     "data": {
      "text/plain": [
       "112.0"
      ]
     },
     "execution_count": 39,
     "metadata": {},
     "output_type": "execute_result"
    }
   ],
   "source": [
    "5600/50"
   ]
  }
 ],
 "metadata": {
  "kernelspec": {
   "display_name": "Python 3",
   "language": "python",
   "name": "python3"
  },
  "language_info": {
   "codemirror_mode": {
    "name": "ipython",
    "version": 3
   },
   "file_extension": ".py",
   "mimetype": "text/x-python",
   "name": "python",
   "nbconvert_exporter": "python",
   "pygments_lexer": "ipython3",
   "version": "3.5.2"
  }
 },
 "nbformat": 4,
 "nbformat_minor": 2
}
