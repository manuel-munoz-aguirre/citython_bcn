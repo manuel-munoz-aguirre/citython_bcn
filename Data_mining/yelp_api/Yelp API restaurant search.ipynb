{
 "cells": [
  {
   "cell_type": "code",
   "execution_count": 29,
   "metadata": {},
   "outputs": [],
   "source": [
    "import pandas as pd\n",
    "from yelpapi import YelpAPI"
   ]
  },
  {
   "cell_type": "code",
   "execution_count": 30,
   "metadata": {},
   "outputs": [],
   "source": [
    "api_key = \"\" #  Replace this with your real API key\n",
    "yelp_api = YelpAPI(api_key)\n"
   ]
  },
  {
   "cell_type": "code",
   "execution_count": 31,
   "metadata": {},
   "outputs": [
    {
     "data": {
      "text/plain": [
       "['total', 'businesses', 'region']"
      ]
     },
     "execution_count": 31,
     "metadata": {},
     "output_type": "execute_result"
    }
   ],
   "source": [
    "[x for x in search_results]"
   ]
  },
  {
   "cell_type": "code",
   "execution_count": null,
   "metadata": {},
   "outputs": [],
   "source": [
    "# This only gives up to 1k results\n",
    "\n",
    "lat = []\n",
    "long = []\n",
    "price = []\n",
    "rating = []\n",
    "offset = 0\n",
    "\n",
    "for j in range(0, 110):\n",
    "    print(j)\n",
    "    search_results = yelp_api.search_query(latitude=\"41.386903\", \n",
    "                                           longitude=\"2.169404\", \n",
    "                                           radius=\"5000\",\n",
    "                                           categories=\"restaurants\",\n",
    "                                           limit=50,\n",
    "                                           offset=offset,\n",
    "                                           timeout_s=2.0)\n",
    "    \n",
    "    for i in range(0, len(search_results[\"businesses\"])):\n",
    "        try:\n",
    "            lat.append(search_results[\"businesses\"][i][\"coordinates\"][\"latitude\"])\n",
    "        except:\n",
    "            lat.append(\"NA\")\n",
    "            \n",
    "        try:    \n",
    "            long.append(search_results[\"businesses\"][i][\"coordinates\"][\"longitude\"])\n",
    "        except:\n",
    "            long.append(\"NA\")\n",
    "            \n",
    "        try:\n",
    "            price.append(search_results[\"businesses\"][i][\"price\"])\n",
    "        except:\n",
    "            price.append(\"NA\")\n",
    "            \n",
    "        try:\n",
    "            rating.append(search_results[\"businesses\"][i][\"rating\"])\n",
    "        except:\n",
    "            rating.append(\"NA\")\n",
    "        \n",
    "    offset += 50"
   ]
  },
  {
   "cell_type": "code",
   "execution_count": 51,
   "metadata": {},
   "outputs": [],
   "source": [
    "restaurant_df = pd.DataFrame(\n",
    "    {'latitude': lat,\n",
    "     'longitude': long,\n",
    "     'price': price,\n",
    "     'rating': rating\n",
    "    })"
   ]
  },
  {
   "cell_type": "code",
   "execution_count": 64,
   "metadata": {},
   "outputs": [],
   "source": [
    "restaurant_df.to_csv(\"restaurants.csv\", sep =\",\", index=False)"
   ]
  }
 ],
 "metadata": {
  "kernelspec": {
   "display_name": "Python 3",
   "language": "python",
   "name": "python3"
  },
  "language_info": {
   "codemirror_mode": {
    "name": "ipython",
    "version": 3
   },
   "file_extension": ".py",
   "mimetype": "text/x-python",
   "name": "python",
   "nbconvert_exporter": "python",
   "pygments_lexer": "ipython3",
   "version": "3.5.2"
  }
 },
 "nbformat": 4,
 "nbformat_minor": 2
}
